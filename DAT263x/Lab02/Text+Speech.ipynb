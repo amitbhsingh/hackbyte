{
  "cells": [
    {
      "metadata": {},
      "cell_type": "markdown",
      "source": "# Text and Speech Analysis\nThis notebook includes some basic examples of techniques used to analyze text and speech."
    },
    {
      "metadata": {},
      "cell_type": "markdown",
      "source": "## Performing Basic Frequency Analysis\nLet's start by using some very basic frequency analysis on a document to see if we can determine what the document is about  based on word frequency.\n\n### Load a Text Document\nRun the cell below to load a document and view the text it contains."
    },
    {
      "metadata": {
        "trusted": true
      },
      "cell_type": "code",
      "source": "# Use Curl to get a document from GitHub and open it\n!curl https://raw.githubusercontent.com/MicrosoftLearning/AI-Introduction/master/files/Moon.txt -o Moon.txt\ndoc1 = open(\"Moon.txt\", \"r\")\n\n# Read the document and print its contents\ndoc1Txt = doc1.read()\nprint(doc1Txt)",
      "execution_count": null,
      "outputs": []
    },
    {
      "metadata": {},
      "cell_type": "markdown",
      "source": "### Normalize the Text\nText includes a lot of punctuation, which we need to remove if we want to work only with the actual words.\n\nRun the cell below to strip all the punctuation from the text and convert the words to lower case."
    },
    {
      "metadata": {
        "trusted": true
      },
      "cell_type": "code",
      "source": "from string import punctuation\n\n# remove numeric digits\ntxt = ''.join(c for c in doc1Txt if not c.isdigit())\n\n# remove punctuation and make lower case\ntxt = ''.join(c for c in txt if c not in punctuation).lower()\n\n# print the normalized text\nprint (txt)",
      "execution_count": null,
      "outputs": []
    },
    {
      "metadata": {},
      "cell_type": "markdown",
      "source": "### Get the Frequency Distribution\nNow let's tokenize the text (split it into individual words), and count the number of times each word occurs."
    },
    {
      "metadata": {
        "trusted": true
      },
      "cell_type": "code",
      "source": "import nltk\nimport pandas as pd\nfrom nltk.probability import FreqDist\nnltk.download(\"punkt\")\n\n# Tokenize the text into individual words\nwords = nltk.tokenize.word_tokenize(txt)\n\n# Get the frequency distribution of the words into a data frame\nfdist = FreqDist(words)\ncount_frame = pd.DataFrame(fdist, index =[0]).T\ncount_frame.columns = ['Count']\nprint (count_frame)",
      "execution_count": null,
      "outputs": []
    },
    {
      "metadata": {},
      "cell_type": "markdown",
      "source": "### Visualize Word Frequency\nIt's often easier to analyze frequency by creating a visualization, such as a Pareto chart."
    },
    {
      "metadata": {
        "trusted": true
      },
      "cell_type": "code",
      "source": "%matplotlib inline\nimport matplotlib.pyplot as plt\n\ncounts = count_frame.sort_values('Count', ascending = False)\nfig = plt.figure(figsize=(16, 9))\nax = fig.gca()    \ncounts['Count'][:60].plot(kind = 'bar', ax = ax, color=\"blue\")\nax.set_title('Frequency of the most common words')\nax.set_ylabel('Frequency of word')\nax.set_xlabel('Word')\nplt.show()",
      "execution_count": null,
      "outputs": []
    },
    {
      "metadata": {},
      "cell_type": "markdown",
      "source": "### Remove Stopwords\nA large number of the words in the text are common words like \"the\" or \"and\". These \"stopwords\" add little in the way of semantic meaning to the text, and won't help us determine the subject matter - so run the cell below to remove them."
    },
    {
      "metadata": {
        "trusted": true
      },
      "cell_type": "code",
      "source": "# remove stopwords\nnltk.download(\"stopwords\")\nfrom nltk.corpus import stopwords\ntxt = ' '.join([word for word in txt.split() if word not in (stopwords.words('english'))])\nprint(\"\\n\")\nprint(txt)",
      "execution_count": null,
      "outputs": []
    },
    {
      "metadata": {},
      "cell_type": "markdown",
      "source": "### Visualize the Frequency Distribution for the Remaining Words\nNow that we've prepared the text, we can tokenize the string into a list of individual words, and then perform frequency analysis on those words based on how often they appear in the text."
    },
    {
      "metadata": {
        "trusted": true
      },
      "cell_type": "code",
      "source": "# Get the frequency distribution of the remaining words\nwords = nltk.tokenize.word_tokenize(txt)\nfdist = FreqDist(words)\ncount_frame = pd.DataFrame(fdist, index =[0]).T\ncount_frame.columns = ['Count']\n\n# Plot the frequency of the top 60 words\ncounts = count_frame.sort_values('Count', ascending = False)\nfig = plt.figure(figsize=(16, 9))\nax = fig.gca()    \ncounts['Count'][:60].plot(kind = 'bar', ax = ax, color=\"blue\")\nax.set_title('Frequency of the most common words')\nax.set_ylabel('Frequency of word')\nax.set_xlabel('Word')\nplt.show()",
      "execution_count": null,
      "outputs": []
    },
    {
      "metadata": {},
      "cell_type": "markdown",
      "source": "The most frequent word is \"new\", and other common words include \"go\", \"space\", \"science\", and \"moon\"."
    },
    {
      "metadata": {},
      "cell_type": "markdown",
      "source": "## Using Term Frequency - Inverse Document Frequency\nIn the previous example, we've used basic term frequency to determine each word's \"importance\" based on how often it appears in the document. When dealing with a large corpus of multiple documents, a more commonly used technique is *term frequency, inverse document frequency* (or TF-IDF) in which a score is calculated based on how often a word or term appears in one document compared to its more general frequency across the entire collection of documents. Using this technique, a high degree of relevance is assumed for words that appear frequently in a particular document, but relatively infrequently across a wide range of other documents."
    },
    {
      "metadata": {},
      "cell_type": "markdown",
      "source": "### Load and View Two More Documents\nLet's add a couple more documents to our collection."
    },
    {
      "metadata": {
        "trusted": true
      },
      "cell_type": "code",
      "source": "# remind ourselves of the first document\nprint(doc1Txt)\nprint(\"------------------------------------------------\")\n\n# Get a second document, normalize it, and remove stop words\n!curl https://raw.githubusercontent.com/MicrosoftLearning/AI-Introduction/master/files/Gettysburg.txt -o Gettysburg.txt\ndoc2 = open(\"Gettysburg.txt\", \"r\")\ndoc2Txt = doc2.read()\nprint (doc2Txt)\nfrom string import punctuation\ntxt2 = ''.join(c for c in doc2Txt if not c.isdigit())\ntxt2 = ''.join(c for c in txt2 if c not in punctuation).lower()\ntxt2 = ' '.join([word for word in txt2.split() if word not in (stopwords.words('english'))])\n\n\n# and a third\nprint(\"------------------------------------------------\")\n!curl https://raw.githubusercontent.com/MicrosoftLearning/AI-Introduction/master/files/Cognitive.txt -o Cognitive.txt\ndoc3 = open(\"Cognitive.txt\", \"r\")\ndoc3Txt = doc3.read()\nprint (doc3Txt)\nfrom string import punctuation\ntxt3 = ''.join(c for c in doc3Txt if not c.isdigit())\ntxt3 = ''.join(c for c in txt3 if c not in punctuation).lower()\ntxt3 = ' '.join([word for word in txt3.split() if word not in (stopwords.words('english'))])\n",
      "execution_count": null,
      "outputs": []
    },
    {
      "metadata": {},
      "cell_type": "markdown",
      "source": "### Get TF-IDF Values for the top three words in each document\nNow we'll install the **textblob** library and create some functions that we'll use to find the top 3 most important words in each document."
    },
    {
      "metadata": {
        "trusted": true
      },
      "cell_type": "code",
      "source": "# install textblob library and define functions for TF-IDF\n!pip install -U textblob\nimport math\nfrom textblob import TextBlob as tb\n\ndef tf(word, doc):\n    lenOfDoc = len(doc.words)\n    if lenOfDoc < 1: return 0\n    else: return doc.words.count(word) / lenOfDoc\n\ndef contains(word, docs):\n    return sum(1 for doc in docs if word in doc.words)\n\ndef idf(word, docs):\n    docsCount = contains(word, docs)\n    if docsCount < 1 : return 0\n    else: return math.log(len(docs) / docsCount)\n\ndef tfidf(word, doc, docs):\n    return tf(word,doc) * idf(word, docs)\n\n\n# Create a collection of documents as textblobs\ndoc1 = tb(txt)\ndoc2 = tb(txt2)\ndoc3 = tb(txt3)\ndocs = [doc1, doc2, doc3]\n\n# Use TF-IDF to get the three most important words from each document\nprint('-----------------------------------------------------------')\nfor i, doc in enumerate(docs):\n    print(\"Top words in document {}\".format(i + 1))\n    scores = {word: tfidf(word, doc, docs) for word in doc.words}\n    sorted_words = sorted(scores.items(), key=lambda x: x[1], reverse=True)\n    for word, score in sorted_words[:3]:\n        print(\"\\tWord: {}, TF-IDF: {}\".format(word, round(score, 5)))\n",
      "execution_count": null,
      "outputs": []
    },
    {
      "metadata": {},
      "cell_type": "markdown",
      "source": "## Stemming\nUntil now, we've simply counted the number of occurrances of each word. This doesn't take into account the fact that sometimes multiple words may be based on the same common base, or *stem*; and may be semantically equivalent. For example, \"fishes\", \"fished\", \"fishing\", and \"fisher\" are all derived from the stem \"fish\".\n\n### View frequency of words from Kennedy's inauguration speech\nLet's look at another document and count the unstemmed words it contains."
    },
    {
      "metadata": {
        "scrolled": false,
        "trusted": true
      },
      "cell_type": "code",
      "source": "# Load and print text\n!curl https://raw.githubusercontent.com/MicrosoftLearning/AI-Introduction/master/files/Inaugural.txt -o Inaugural.txt\ndoc4 = open(\"Inaugural.txt\", \"r\", encoding=\"utf-16\")\ndoc4Txt = doc4.read()\n\nprint(doc4Txt)\n\n# Normalize and remove stop words\nfrom string import punctuation\ndoc4Txt = ''.join(c for c in doc4Txt if not c.isdigit())\ndoc4Txt = ''.join(c for c in doc4Txt if c not in punctuation).lower()\ndoc4Txt = ' '.join([word for word in doc4Txt.split() if word not in (stopwords.words('english'))])\n\n# Get Frequency distribution\nwords = nltk.tokenize.word_tokenize(doc4Txt)\nfdist = FreqDist(words)\ncount_frame = pd.DataFrame(fdist, index =[0]).T\ncount_frame.columns = ['Count']\n\n# Plot frequency\ncounts = count_frame.sort_values('Count', ascending = False)\nfig = plt.figure(figsize=(16, 9))\nax = fig.gca()    \ncounts['Count'][:60].plot(kind = 'bar', ax = ax, color=\"blue\")\nax.set_title('Frequency of the most common words')\nax.set_ylabel('Frequency of word')\nax.set_xlabel('Word')\nplt.show()",
      "execution_count": null,
      "outputs": []
    },
    {
      "metadata": {},
      "cell_type": "markdown",
      "source": "### Stem the words using the Porter stemmer\nNow let's stem the words and count the stems."
    },
    {
      "metadata": {
        "trusted": true
      },
      "cell_type": "code",
      "source": "from nltk.stem.porter import PorterStemmer\n\n# Get the word stems\nps = PorterStemmer()\nstems = [ps.stem(word) for word in words]\n\n# Get Frequency distribution\nfdist = FreqDist(stems)\ncount_frame = pd.DataFrame(fdist, index =[0]).T\ncount_frame.columns = ['Count']\n\n# Plot frequency\ncounts = count_frame.sort_values('Count', ascending = False)\nfig = plt.figure(figsize=(16, 9))\nax = fig.gca()    \ncounts['Count'][:60].plot(kind = 'bar', ax = ax, color=\"blue\")\nax.set_title('Frequency of the most common words')\nax.set_ylabel('Frequency of word')\nax.set_xlabel('Word')\nplt.show()",
      "execution_count": null,
      "outputs": []
    },
    {
      "metadata": {},
      "cell_type": "markdown",
      "source": "Compare the frequencies of the stems to the unstemmed words. Note in particular that the unstemmed words include \"power\", \"powers\", and \"powerful\", which are all stemmed to \"power\". Additionally, the text includes \"nations\" and \"nation\" - which also have a common stem."
    },
    {
      "metadata": {},
      "cell_type": "markdown",
      "source": "## Using the Text Analyics Cognitive Service\nThe previous examples demonstrate some ways to write code and analyze text, and they serve to illustrate that text analytics involves applying statistical techniques to text data in order to discern semantic meaning. This is a common theme in many AI solutions.\n\nMicrosoft Cognitive Services includes a Text Analytics service that encapsulates much more sophisticated techniques for ascertaining meaning from text."
    },
    {
      "metadata": {},
      "cell_type": "markdown",
      "source": "### Create a Text Analytics Service\nFirst, you need to provision a Text Analytics service in your Azure subscription. Follow these steps to do that:\n\n1. Open another browser tab and navigate to https://portal.azure.com.\n2. Sign in using your Microsoft account.\n3. Click **+ New**, and search for \"**Text Analytics**\".\n4. In the list of services, click **Text Analytics**.\n5. In the **Text Analytics API** blade, click **Create**.\n6. In the **Create** blade, enter the following details, and then click **Create**\n  * **Name**: A unique name for your service.\n  * **Subscription**: Your Azure subscription.\n  * **Location**: Choose the Azure datacenter location where you want to host your service.\n  * **Pricing tier**: Choose the F0 pricing tier.\n  * **Resource Group**: Choose the existing resource group you created in the previous lab (or create a new one if you didn't complete the previous lab)\n7. Wait for the service to be created.\n8. When deployment is complete, click **All Resources** and then click your Text Analytics service to open its blade.\n9. In the blade for your Text Analytics service, click **Keys** and then copy **Key 1** to the clipboard.\n10. In the cell below, set the **textAnalyticsURI** variable to use the location where you provisioned your Text Analytics service (for example, *eastus2*), and paste the key you copied into the **textKey** variable assignment value.\n11. Run the cell below to create an instance of the Text Analytics service."
    },
    {
      "metadata": {
        "trusted": true
      },
      "cell_type": "code",
      "source": "textAnalyticsURI = 'YOUR_REGION.api.cognitive.microsoft.com'\ntextKey = 'YOUR_KEY'\n\nprint(\"Ready to use Text Analytics API\")",
      "execution_count": null,
      "outputs": []
    },
    {
      "metadata": {},
      "cell_type": "markdown",
      "source": "### Call the Text Analytics Service to Determine Key Phrases in the Documents\nOne of the methods provided by the Text Analytics service is the ability to extract a list of key phrases from text documents, which give an insight into the core topics discussed in the document.\n\nRun the following cell to call the **keyPhrases** method of the Text Analytics service and extract the key phrases for the text documents you have loaded so far in this notebook."
    },
    {
      "metadata": {
        "scrolled": true,
        "trusted": true
      },
      "cell_type": "code",
      "source": "import http.client, urllib.request, urllib.parse, urllib.error, base64, json, urllib\n\n# Define the request headers.\nheaders = {\n    'Content-Type': 'application/json',\n    'Ocp-Apim-Subscription-Key': textKey,\n    'Accept': 'application/json'\n}\n\n# Define the parameters\nparams = urllib.parse.urlencode({\n})\n\n# Define the request body\nbody = {\n  \"documents\": [\n    {\n        \"language\": \"en\",\n        \"id\": \"1\",\n        \"text\": doc2Txt\n    },\n    {\n        \"language\": \"en\",\n        \"id\": \"2\",\n        \"text\": doc3Txt\n    }\n  ]\n}\n\ntry:\n    # Execute the REST API call and get the response.\n    conn = http.client.HTTPSConnection(textAnalyticsURI)\n    conn.request(\"POST\", \"/text/analytics/v2.0/keyPhrases?%s\" % params, str(body), headers)\n    response = conn.getresponse()\n    data = response.read().decode(\"UTF-8\")\n\n    # 'data' contains the JSON response, which includes a collection of documents.\n    parsed = json.loads(data)\n    for document in parsed['documents']:\n        print(\"Document \" + document[\"id\"] + \" key phrases:\")\n        for phrase in document['keyPhrases']:\n            print(\"  \" + phrase)\n        print(\"---------------------------\")\n    conn.close()\n\nexcept Exception as e:\n    print('Error:')\n    print(e)",
      "execution_count": null,
      "outputs": []
    },
    {
      "metadata": {},
      "cell_type": "markdown",
      "source": "From these key phrases, it's reasonably clear that the first document is about the advancement of science and space exploration, the second is about freedom and nationhood, and the third is about software services for AI.\n\n### Perform Sentiment Analysis\nAnother common AI requirement is to determine the sentiment associated with some text. For example, you might analyze tweets that include your organization's twitter handle to determine if they are positive or negative.\n\nRun the cell below to use the **sentiment** method of the Text Analytics service to discern the sentiment of two sentences."
    },
    {
      "metadata": {
        "trusted": true
      },
      "cell_type": "code",
      "source": "body = {\n  \"documents\": [\n    {\n      \"language\": \"en\",\n      \"id\": \"1\",\n      \"text\": \"Wow! cognitive services are fantastic.\"\n    },\n    {\n      \"language\": \"en\",\n      \"id\": \"2\",\n      \"text\": \"I hate it when computers don't understand me.\"\n    }\n  ]\n}\n\n\ntry:\n    conn = http.client.HTTPSConnection(textAnalyticsURI)\n    conn.request(\"POST\", \"/text/analytics/v2.0/sentiment?%s\" % params, str(body), headers)\n    response = conn.getresponse()\n    data = response.read().decode(\"UTF-8\")\n    parsed = json.loads(data)\n    \n    # Get the numeric score for each document\n    for document in parsed['documents']:\n        sentiment = \"negative\"\n        \n        # if it's more than 0.5, consider the sentiment to be positive.\n        if document[\"score\"] >= 0.5:\n            sentiment = \"positive\"\n        print(\"Document:\" + document[\"id\"] + \" = \" + sentiment)\n    conn.close()\n    \nexcept Exception as e:\n    print(\"[Errno {0}] {1}\".format(e.errno, e.strerror))\n",
      "execution_count": null,
      "outputs": []
    },
    {
      "metadata": {},
      "cell_type": "markdown",
      "source": "## Working with Speech\nSo far, we've seen how analyze text; but increasingly AI systems enable humans to communicate with software services through speech recognition.\n\nLet's start by installing the speech SDK."
    },
    {
      "metadata": {
        "trusted": true
      },
      "cell_type": "code",
      "source": "!pip install azure.cognitiveservices.speech",
      "execution_count": null,
      "outputs": []
    },
    {
      "metadata": {
        "collapsed": true
      },
      "cell_type": "markdown",
      "source": "### Create a Speech Service\nThe Microsoft Cognitive Services include the Speech service, that can interpret spoken input from a microphone or audio file. Follow these steps to provision the Speech service:\n\n1. Open another browser tab and navigate to https://portal.azure.com.\n2. Sign in using your Microsoft account.\n3. Click **+ New**, and search for \"**Speech**\".\n4. In the list of services, click **Speech**.\n5. In the **Speech** blade, click **Create**.\n6. In the **Create** blade, enter the following details, and then click **Create**\n  * **Name**: A unique name for your service.\n  * **Subscription**: Your Azure subscription.\n  * **Location**: Any available region (you'll need this in the code below).\n  * **Pricing tier**: Choose the F0 pricing tier.\n  * **Resource Group**: Choose the existing resource group you used previously.\n7. Wait for the service to be created.\n8. When deployment is complete, click **All Resources** and then click your Speech service to open its blade.\n10. In the blade for your Speech service, click **Keys** and then copy **Key 1** to the clipboard.\n11. In the cell below, set the **speech_region** variable to the location where you provisioned your Speech service (for example, *eastus2*), and paste the key you copied into the **speech_key** variable assignment value.\n11. Run the cell below to create a configuration object for your speech service."
    },
    {
      "metadata": {
        "trusted": true
      },
      "cell_type": "code",
      "source": "from azure.cognitiveservices.speech import SpeechConfig\n\nspeech_region = 'REGION' # Or the region you specified\nspeech_key = 'YOUR_KEY'\n\nspeech_config = SpeechConfig(speech_key, speech_region)\nprint(\"Speech service ready in\", speech_config.region)",
      "execution_count": null,
      "outputs": []
    },
    {
      "metadata": {},
      "cell_type": "markdown",
      "source": "### Listen to the Speech\nIn this exercise, you will use a .wav audio file. To hear the speech you will analyze, run the cell below (this assumes you have audio capabilities in your computer!)"
    },
    {
      "metadata": {
        "trusted": true
      },
      "cell_type": "code",
      "source": "import IPython\n\n!curl https://raw.githubusercontent.com/MicrosoftLearning/AI-Introduction/master/files/RainSpain.wav -o RainSpain.wav\n\nIPython.display.Audio('RainSpain.wav', autoplay=True)",
      "execution_count": null,
      "outputs": []
    },
    {
      "metadata": {},
      "cell_type": "markdown",
      "source": "### Call the Speech Service to Transcribe the Audio\nHopefully you understood what was said in the audio file.\n\nLet's see how the Speech service does!"
    },
    {
      "metadata": {
        "trusted": true
      },
      "cell_type": "code",
      "source": "from azure.cognitiveservices.speech import SpeechRecognizer, AudioConfig\n\n# Configure audio to use .wav file as source (default is primary microphone)\naudio_config = AudioConfig(filename=\"RainSpain.wav\")\n\n# Create a speech recognizer\nspeech_recognizer = SpeechRecognizer(speech_config,audio_config)\n\n# Use a one-time, synchronous call to transcribe the speech\nspeech = speech_recognizer.recognize_once()\nprint(speech.text)",
      "execution_count": null,
      "outputs": []
    },
    {
      "metadata": {},
      "cell_type": "markdown",
      "source": "## Using the Language Understanding Intelligence Service (LUIS)\nIncreasingly, we expect computers to be able to use AI in order to understand spoken or typed commands in natural language. For example, we want to be able to say \"switch on the light\" or \"put the light on\", and have an AI-powered device understand the command and take appropriate action.\n\n### Provision the Language Understanding Intelligence Service (LUIS)\nThe Microsoft cognitive services include the Language Understanding Intelligence Service (LUIS), which enables you to define *intents* that are applied to *entities* based on *utterances*.\n\nTo get started with LUIS, follow these steps to provision the service in your Azure subscription:\n1. Open another browser tab and navigate to https://portal.azure.com.\n2. Sign in using your Microsoft account.\n3. Click **+ New**, and search for **Language Understanding**.\n4. In the list of services, click **Language Understanding**.\n5. In the **Language Understanding** blade, click **Create**.\n6. In the **Create** blade, enter the following details, and then click **Create**\n  * **Name**: A unique name for your service.\n  * **Subscription**: Your Azure subscription.\n  * **Location**: Choose a location in the US.\n  * **Pricing tier**: Choose the F0 pricing tier.\n  * **Resource Group**: Choose the existing resource group you used previously.\n7. Wait for the service to be created.\n\n### Create a LUIS App\nTo implement natural language understanding with LUIS, you must first create an app; and then add intents, utterances, and entities to define the commands you want the app to understand.\n1. Open a new browser tab and navigate to https://www.luis.ai/.\n2. Sign in using the Microsoft account associated with your Azure subscription. If this is the first time you have signed into LUIS, you may need to grant the app some permissions to access your account details, and then fill in some information and accept the terms of use.\n3. If a message prompting you to complete a tutorial in which you will create a *Scheduler* app is displayed, close it (you can complete this tutorial later - for now, we'll focus on a simpler example).\n4. Click **Create New App** and create a new app with the following settings:\n  * **Name**: Simple Home Automation\n  * **Culture**: English\n  * **Description**: A basic home automation example\n  \n ### Create an Entity and Intents\n1. In the LUIS page for your app, in the pane on the left, click **Entities**. Then click **Create new intent**, and create a new *simple* entity with the name **Light**.\n2. In the pane on the left, click **Intents**. Then click **Create new intent**, and add an intent with the name **Light On**.\n3. In the **Utterances** page for the **Light On** intent, type \"*turn the light on*\" and press **Enter** to add this utterance to the list.\n4. In the list of utterances, in the *turn the light on* utterance, hold the mouse over the word \"light\" so that the list shows the value *turn the [light] on*. Then click **[light]** select the *Light* entity you created previously.\n5. In the pane on the left, click **Intents** and click **Create new intent**, to add a second intent with the name **Light Off**.\n6. In the **Utterances** page for the **Light Off** intent, type \"*turn the light off*\" and press **Enter** to add this utterance to the list.\n7. In the list of utterances, in the *turn the light on* utterance, hold the mouse over the word \"light\" so that the list shows the value *turn the [light] on*. Then click **[light]** select the *Light* entity you created previously.\n\n### Train and Test the Model\n1. At the top of the LUIS page for your app, click **Train** to train the application\n2. After the app has been trained, click **Test**, and then in the test pane, enter the following utterances and verify that they are correctly interpreted as commands for the *Light On* and *Light Off* intents as appropriate:\n    * *turn on the light*\n    * *put the light off*\n    * *switch the light on*\n    * *switch off the light*\n    \n### Publish the Model and Configure Endpoints\n1. At the top of the LUIS page for your app, click **Publish**. Then ensure that the **Production** slot is selected and click **Publish**.\n2. After the model has been published, at the top of the LUIS page for your app, click **Manage**. Then on the **Application Information** tab, note the **Application ID** for your app.\n3. On the **Keys and Endpoints** tab, note that a **Starter_Key** resource has been created for you. You can use this for basic testing, but for full functionality, you should assign a LUIS resource from your Azure subscription to this model.\n4. Click **Assign Resource**, and then in the **Assign a resource to your app** dialog box, select the following settings and click **Assign resource**:\n  * **Tenant name**: *Your Azure tenant*\n  * **Subscription name**: *Your Azure subscription*\n  * **LUIS resource name**: *The LUIS resource you provisioned in the Azure portal*\n  \n  \n5. When the new resource is added, note its **Key 1** and **Endpoint** values - you'll need these later!\n  "
    },
    {
      "metadata": {},
      "cell_type": "markdown",
      "source": "### Consume the LUIS App\nNow that you have published your LUIS app, you can consume it from a client application.\n\nWe'll start by installing the LUIS SDK for Python"
    },
    {
      "metadata": {
        "trusted": true
      },
      "cell_type": "code",
      "source": "!pip install azure-cognitiveservices-language-luis",
      "execution_count": null,
      "outputs": []
    },
    {
      "metadata": {},
      "cell_type": "markdown",
      "source": "Now you're amost ready to call the endpoint for your LUIS application. You just need to modify the following variables in the cell below to match the settings for your LUIS app:\n\n* **luis_app_id** = *The Application ID for your LUIS app*\n* **luis_key** = *The **Key 1** property for the resource you added*\n* **luis_region** = *The region in the **Endpoint** for the resource you added (for example, **westus**)*\n\nThen run the cell, and enter a command when prompted to call your service and interpret the command. The entities and most likely intent predicted for each comand is shown with an appropriate image.\n\nTry the following commands:\n* *Switch on the light*\n* *Turn on the light*\n* *Turn off the light*\n* *Could you put the light on please?*"
    },
    {
      "metadata": {
        "scrolled": false,
        "trusted": true
      },
      "cell_type": "code",
      "source": "from azure.cognitiveservices.language.luis.runtime import LUISRuntimeClient\nfrom msrest.authentication import CognitiveServicesCredentials\nfrom matplotlib.pyplot import imshow\nfrom PIL import Image\nimport requests\nfrom io import BytesIO\n%matplotlib inline\n\n# Set up API configuration\nluis_app_id = \"YOUR APP_ID\"\nluis_key = \"YOUR_KEY\"\nluis_region = \"REGION\"\n\nluis_endpoint = \"https://\" + luis_region + \".api.cognitive.microsoft.com\"\n\nluis_credentials = CognitiveServicesCredentials(luis_key)\n\n# prompt for a command\ncommand = input('Please enter a command: \\n')\n\nluis_client = LUISRuntimeClient(luis_endpoint, luis_credentials)\ndata = luis_client.prediction.resolve(luis_app_id, command)\nintent = data.top_scoring_intent.intent\nprint(\"Entities:\")\nfor entity_details in data.entities:\n    print(\"\\t\", entity_details.entity)\nprint(\"Intent:\", intent)\n\n# Take the appropriate action\nif (intent == \"Light On\"):\n    img_url = 'https://raw.githubusercontent.com/MicrosoftLearning/AI-Introduction/master/files/LightOn.jpg'\nelif (intent == \"Light Off\"):\n    img_url = 'https://raw.githubusercontent.com/MicrosoftLearning/AI-Introduction/master/files/LightOff.jpg'\nelse:\n    img_url = 'https://raw.githubusercontent.com/MicrosoftLearning/AI-Introduction/master/files/Dunno.jpg'\n\n# Get the appropriate image and show it\nresponse = requests.get(img_url)\nimg = Image.open(BytesIO(response.content))\nimshow(img)\n",
      "execution_count": null,
      "outputs": []
    },
    {
      "metadata": {},
      "cell_type": "markdown",
      "source": "## Combining Speech Recognition and Natural Language Understanding\nAn obvious next step is to combine speech recognition with natural language understanding so that a spoken command can be interpreted and the appropriate action taken.\n\n### Enable Speech Priming\n1. In the LUIS page for your application, click **Manage** and then view the **Publish Settings** page.\n2. Select the **Enable speech priming...** option.\n3. Click **Publish** to republish your application to the **Production** environment.\n\n### Download Command Audio\nNow let's download and play some spoken commands for our home automation system. Run the two cells under this to hear the commands."
    },
    {
      "metadata": {
        "trusted": true
      },
      "cell_type": "code",
      "source": "import IPython\n\n# Get the \"lights on\" command\n!curl https://raw.githubusercontent.com/MicrosoftLearning/AI-Introduction/master/files/LightOn.wav -o LightOn.wav\n    \nIPython.display.Audio('LightOn.wav', autoplay=True)",
      "execution_count": null,
      "outputs": []
    },
    {
      "metadata": {
        "trusted": true
      },
      "cell_type": "code",
      "source": "# Get the \"lights on\" command\n!curl https://raw.githubusercontent.com/MicrosoftLearning/AI-Introduction/master/files/LightOff.wav -o LightOff.wav\n    \nIPython.display.Audio('LightOff.wav', autoplay=True)",
      "execution_count": null,
      "outputs": []
    },
    {
      "metadata": {},
      "cell_type": "markdown",
      "source": "### Use the Speech SDK with LUIS to predict intents\nRun the code in the following cell to use the speech SDK with your LUIS application to detect the intent from the *LightOn.wav* audio file."
    },
    {
      "metadata": {
        "trusted": true
      },
      "cell_type": "code",
      "source": "from azure.cognitiveservices.speech.intent import IntentRecognizer, LanguageUnderstandingModel\n\ncommand_file = \"LightOn.wav\"\n\n# Configure audio to use .wav file as source (default is primary microphone)\naudio_intent_config = AudioConfig(filename=command_file)\n\n# Set the intent config to use our LUIS service\nspeech_intent_config = SpeechConfig(subscription=luis_key, region=luis_region)\n\n# Create a speech recognizer\nintent_recognizer = IntentRecognizer(speech_config=speech_intent_config, audio_config=audio_intent_config)\n\nmodel = LanguageUnderstandingModel(app_id=luis_app_id)\n\nintents = [\n        (model, \"Light On\"),\n        (model, \"Light Off\"),\n    ]\n\nintent_recognizer.add_intents(intents)\n\nintent_result = intent_recognizer.recognize_once()\n\nintent = intent_result.intent_id\nprint(intent)\n\n# Perform the appropriate action\nif (intent == \"Light On\"):\n    img_url = 'https://raw.githubusercontent.com/MicrosoftLearning/AI-Introduction/master/files/LightOn.jpg'\nelif (intent == \"Light Off\"):\n    img_url = 'https://raw.githubusercontent.com/MicrosoftLearning/AI-Introduction/master/files/LightOff.jpg'\nelse:\n    img_url = 'https://raw.githubusercontent.com/MicrosoftLearning/AI-Introduction/master/files/Dunno.jpg'\nresponse = requests.get(img_url)\nimg = Image.open(BytesIO(response.content))\nimshow(img)",
      "execution_count": null,
      "outputs": []
    },
    {
      "metadata": {},
      "cell_type": "markdown",
      "source": "### Transcribe and Interpret the \"Light Off\" Command\nModify the cell above to set the **command_file** variable to `data/LightOff.wav`, and then run the cell again to test it"
    }
  ],
  "metadata": {
    "kernelspec": {
      "name": "python36",
      "display_name": "Python 3.6",
      "language": "python"
    },
    "language_info": {
      "mimetype": "text/x-python",
      "nbconvert_exporter": "python",
      "name": "python",
      "pygments_lexer": "ipython3",
      "version": "3.6.6",
      "file_extension": ".py",
      "codemirror_mode": {
        "version": 3,
        "name": "ipython"
      }
    }
  },
  "nbformat": 4,
  "nbformat_minor": 2
}